{
 "cells": [
  {
   "cell_type": "markdown",
   "metadata": {},
   "source": [
    "Let $Y^*(t,\\tau)$ be the number of people infected in interval $[t,t+1)$ by people who where infected in time interval $[t-\\tau,t-\\tau+1)$. \n",
    "\n",
    "We use the following recursion for $Y^*(t,\\tau)$:\n",
    "$$Y^*(t,\\tau) = S(t)/N \\sum_{\\tau'=\\tau}^K Y^*(t-\\tau,\\tau'-\\tau) \\int_{\\tau'}^{\\tau'+1}\\int_{\\tau}^{\\min(\\hat{\\tau}',\\tau+1)}f(\\hat{\\tau}',\\hat{\\tau})d\\hat{\\tau}d\\hat{\\tau}'$$\n",
    "Where $$f(\\tau',\\hat{\\tau})=\\beta(\\hat{\\tau})(1-\\epsilon_Is(\\hat{\\tau}))\\left(1-\\epsilon_T + \\epsilon_T\\frac{1-s(\\tau')}{1-s(\\tau'-\\hat{\\tau}))}\\right)$$\n",
    "Here $s(\\tau)$ is the incubation period which we assume to be lognormal distributed with meanlog 1.644 and sdlog 0.363. Let $K$ be the number of days an infected patient can spread the virus, we assume $K=13$.  $\\beta(\\tau)=R_0 w(\\tau)$. We approximate $R_0=2$ and the generation time $w$ is weibull distributed with shape parameter 2.826027 and scale parameter 5.665302.\n",
    "\n",
    "Note: In the sum, only the first term ($\\tau'=\\tau$) uses the min-statement, for all other terms it is just $\\tau+1$ in the second integral.\n",
    "\n",
    "We use the following model to keep track of the number of suspectible ($S$), $k$-days infected ($I_k$), hospitalised ($H$), deceased ($D$) and recovered ($R$) patients. \n",
    "\\begin{align}\n",
    "S(t+1) &= S(t) - \\sum_{k=1}^K Y^*(t,k)\\\\\n",
    "I_1(t+1) &= \\sum_{k=1}^K Y^*(t,k)\\\\\n",
    "I_k(t+1) &= I_{k-1}(t) \\qquad \\text{for } k=2,3,..,K\\\\\n",
    "H(t+1) &= H(t)+\\gamma_{I,H} I_K(t) - (\\gamma_{H,D}+\\gamma_{H,R})H(t)\\\\\n",
    "R(t+1) &= R(t)+ (1-\\gamma_{I,H})I_K(t)+\\gamma_{H,R}H(t)\\\\\n",
    "D(t+1) &= D(t) + \\gamma_{H,D} H(t)\n",
    "\\end{align}"
   ]
  },
  {
   "cell_type": "markdown",
   "metadata": {},
   "source": [
    "Let $$g(\\tau,\\tau)=\\int_{\\tau}^{\\tau+1}\\int_{\\tau}^{\\tau'}\\beta(\\hat{\\tau})(1-\\epsilon_Is(\\hat{\\tau}))\\left(1-\\epsilon_T + \\epsilon_T\\frac{1-s(\\tau')}{1-s(\\tau'-\\hat{\\tau}))}\\right)d\\hat{\\tau}d\\tau',$$\n",
    "and for $\\tau'> \\tau$  \n",
    "$$g(\\tau,\\tau')=\\int_{\\tau'}^{\\tau'+1}\\int_{\\tau}^{\\tau+1}\\beta(\\hat{\\tau})(1-\\epsilon_Is(\\hat{\\tau}))\\left(1-\\epsilon_T + \\epsilon_T\\frac{1-s(\\hat{\\tau}')}{1-s(\\hat{\\tau}'-\\hat{\\tau}))}\\right)d\\hat{\\tau}d\\hat{\\tau'}.$$\n",
    "Then $$Y^*(t,\\tau)=S(t)/N \\sum_{\\tau'=\\tau}^KY^*(t-\\tau,\\tau'-\\tau)g(\\tau,\\tau').$$\n",
    "We can see $g(\\tau,\\tau')$ as the infection rate of someone infected $\\tau$ days ago, that was infected by someone who was infected $\\tau'$ days ago."
   ]
  },
  {
   "cell_type": "markdown",
   "metadata": {},
   "source": [
    "For the initial values of $Y*$ we use the following. We assume that there is no quarantine and no tracing for $12\\leq t\\leq0$. Then we say $Y^*(t,\\tau) = \\int_{K-\\tau}^{K-\\tau+1} \\beta(\\hat{\\tau})d\\hat{\\tau}I_{-t}(0)$. As $I_{-t}(0)$ is the number of new infected people at time $t$, and we estimate the fraction of infected people at time $t$ that is infected $t-\\tau$ days ago by  $\\int_{K-\\tau}^{K-\\tau+1} \\beta(\\tau')d\\tau'$. (This would be a reasonoable estiamtion if the number of infected people is constant for $t\\leq0$ which is obviously not the case.)"
   ]
  },
  {
   "cell_type": "markdown",
   "metadata": {},
   "source": [
    "We start by setting initial values and parameter estimates."
   ]
  },
  {
   "cell_type": "code",
   "execution_count": 1,
   "metadata": {},
   "outputs": [],
   "source": [
    "from scipy.stats import weibull_min\n",
    "from scipy.stats import lognorm\n",
    "import cmath\n",
    "import math \n",
    "import numpy as np\n",
    "import matplotlib.pyplot as plt\n",
    "from scipy.integrate import dblquad\n",
    "from scipy.integrate import quad"
   ]
  },
  {
   "cell_type": "code",
   "execution_count": 2,
   "metadata": {},
   "outputs": [],
   "source": [
    "# The number of deceased patients from 10-04 back to 28-03 is multiplied by 100 \n",
    "# to estimate the number of infected patients from 28-03 back to 17-03\n",
    "# The number of recovered patients is calculated by summing up the number of deceased\n",
    "# patients up to 17-03 and multiply by 100 * 0.99\n",
    "N = 17000000\n",
    "K=13\n",
    "Ikt = [ [9800] , [9000],[12200],[13400],[14500],[14200],[14900],[15100],[15900],[15200],[15800],[14700],[11700]]\n",
    "R = [ N*0.03 ] #About 3 percent of the people has been infected and is recovered now.\n",
    "H = [1232] #number of tested corona patients on the IC 10-04\n",
    "D = [0] #We will look at the number of deceased patients starting the count on zero\n",
    "Itotal = [sum([Ikt[i][-1] for i in range(K)])]\n",
    "S = [N - Itotal[0] -R[0]-H[0]-D[0]]\n",
    "\n",
    "#We will repeat the initialisation step every run, so this is just to get an overview of the values. \n"
   ]
  },
  {
   "cell_type": "code",
   "execution_count": 3,
   "metadata": {},
   "outputs": [],
   "source": [
    "#Define the parameters values of the gammas (\\gamma_{H,R} ->gHR) These values come from the science paper.\n",
    "gIH = 0.026445154\n",
    "#gHD = 0.001859002 #20 days on IC\n",
    "#gHR = 0.048140998 \n",
    "\n",
    "gHD = 0.003718003 #10 days on IC\n",
    "gHR = 0.096281997"
   ]
  },
  {
   "cell_type": "markdown",
   "metadata": {},
   "source": [
    "The parameters above are based on a combination of https://www.imperial.ac.uk/media/imperial-college/medicine/sph/ide/gida-fellowships/Imperial-College-COVID19-NPI-modelling-16-03-2020.pdf and https://opendata.cbs.nl/statline/?dl=308BE#/CBS/nl/dataset/7461bev/table, but are just estimates. "
   ]
  },
  {
   "cell_type": "code",
   "execution_count": 4,
   "metadata": {},
   "outputs": [],
   "source": [
    "K=13 #By the Science paper, someone who is infected will remain infectious for 13 days.\n",
    "\n",
    "#Set efficacy\n",
    "epsI = 0\n",
    "epsT = 0\n",
    "\n",
    "#Define the generation time distribution\n",
    "genWeibShape = 2.826027\n",
    "genWeibScale = 5.665302\n",
    "R0=2\n",
    "#BetaTau = [(2*weibull_min(genWeibShape, 0, genWeibScale).pdf(x)) for x in range(K)]\n",
    "\n",
    "#Define incubation time distribution\n",
    "incMeanLog = 1.644\n",
    "incSdLog = 0.363\n",
    "#incubTau = [(lognorm.cdf(x,incSdLog,0,math.exp(incMeanLog))) for x in range(0,K+1)]\n",
    "\n",
    "def incub(tau): #get probability that incubation time is lower than tau\n",
    "    return lognorm.cdf(tau,incSdLog,0,math.exp(incMeanLog))\n",
    "\n",
    "def gener(tau): #probability density of generation time at tau\n",
    "    return R0*weibull_min(genWeibShape, 0, genWeibScale).pdf(tau)\n",
    "\n",
    "def f(ht,htp): #Here we mean ht=\\hat{\\tau} and htp=\\hat{\\tau}' (p of prime)\n",
    "    if (htp >= ht): #This just function f as defined above\n",
    "        return gener(ht)*(1-epsI*incub(ht))*(1-epsT+epsT*(1-incub(htp))/(1-incub(htp-ht))) \n",
    "    else:\n",
    "        return 0\n",
    "        \n",
    "def G(tau,taup): #This is funciton g as defined above, taup= \\tau'\n",
    "    if (taup >= tau):\n",
    "        return dblquad( lambda ht, htp : f(ht,htp), taup, taup+1, lambda x: tau, lambda x: min(x,tau +1))\n",
    "    else:\n",
    "        return [0]\n",
    "    \n",
    "#It takes a long time to calculate these, so we store them in a matrix such that we only have to calculate once.\n",
    "g = [[G(tau,taup)[0] for taup in range(K)] for tau in range(K)]\n",
    "#So g(\\tau,\\tau') is what we defined above.\n"
   ]
  },
  {
   "cell_type": "code",
   "execution_count": 5,
   "metadata": {},
   "outputs": [],
   "source": [
    "#Set the values for S for t=-12,-11,...,0\n",
    "Sbefore0 = [S[0]]\n",
    "for k in range(K-1):\n",
    "    Sbefore0.append(S[-1]+Ikt[k][0])\n",
    "Sbefore0.reverse() #Now Sbefore0[0] = S[-12] -> Sbefore0[12]=S[0]\n",
    "\n",
    "#Formula as stated above:\n",
    "YttauI = [[Ikt[-t][0]*quad(gener, K-tau, K-tau+1)[0] for tau in range(K)] for t in range(1,K+1)]\n",
    "#I for initialised, so we do not have to do this every time if we run the code below.\n",
    "\n",
    "YttauI.append([0]*K) #make an empty row for Y*(0,:)\n",
    "for tau in range(1,K):\n",
    "    #sumhelp is what is in the sum given above, summ is the sum itself.\n",
    "    sumhelp = [ g[tau][tauPr]*YttauI[12-tau][tauPr-tau] for tauPr in range(tau,K)]\n",
    "    summ = sum(sumhelp)\n",
    "    YttauI[-1][tau] = S[-1]/N*summ\n"
   ]
  },
  {
   "cell_type": "markdown",
   "metadata": {},
   "source": [
    "Above, the initial values for $Y^*(t,\\tau)$ are given. We have $Y^*(t,\\tau) = Yttau(t+12,\\tau)$ for $t>=-12, \\tau =0,1,...,12$."
   ]
  },
  {
   "cell_type": "code",
   "execution_count": 6,
   "metadata": {},
   "outputs": [],
   "source": [
    "Ikt = None; R=None; H=None; D=None; Itotal=None;S=None;Yttau=None; Yttot=None;"
   ]
  },
  {
   "cell_type": "code",
   "execution_count": 7,
   "metadata": {},
   "outputs": [],
   "source": [
    "T = 210 #number of days we want to look ahead.\n",
    "\n",
    "\n",
    "N = 17000000\n",
    "Ikt = [ [9800] , [9000],[12200],[13400],[14500],[14200],[14900],[15100],[15900],[15200],[15800],[14700],[11700]]\n",
    "R = [ N*0.03]\n",
    "H = [1232] #number of tested corona patients on the IC 10-04\n",
    "D = [0]\n",
    "Itotal = [sum([Ikt[i][-1] for i in range(K)])]\n",
    "S = [N - Itotal[0] -R[0]-H[0]-D[0]]\n",
    "\n",
    "#Yttau = [([(Sbefore0[t]/N*BetaTau[tau]) for tau in range(K)]) for t in range(K)]\n",
    "Yttau = YttauI.copy()\n",
    "Yttot = [sum(Yttau[-1])] #This is the total number of new infections at t=1\n",
    "for t in range(0,T):\n",
    "    \n",
    "    for k in range(1,K):\n",
    "        Ikt[k].append(Ikt[k-1][t]) #update every infection class with the previous day\n",
    "    \n",
    "    Ikt[0].append(Yttot[-1]) #new infections \n",
    "    S.append(S[-1] - Yttot[-1]) #remove the new infections from S\n",
    "    Itotal.append(sum([Ikt[i][-1] for i in range(K)])) #Update total number of infections\n",
    "    \n",
    "    H.append(H[-1]*(1-gHR-gHD) + gIH*Ikt[K-1][t]) #Update hospitalized patients\n",
    "    R.append(R[-1]+(1-gIH)*Ikt[K-1][t]+gHR*H[t]) #Update recovered patients\n",
    "    D.append(D[-1]+gHD*H[t]) #Update deceased patients\n",
    "    \n",
    "    \n",
    "    Yttau.append([0]*K) #make an empty row for Y*(t+12,:)\n",
    "    for tau in range(1,K):\n",
    "        #sumhelp is what is in the sum given above, summ is the sum itself.\n",
    "        sumhelp = [ g[tau][tauPr]*Yttau[12+t-tau][tauPr-tau] for tauPr in range(tau,K)]\n",
    "        summ = sum(sumhelp)\n",
    "        Yttau[-1][tau] = S[-1]/N*summ\n",
    "    #We have beta(0)=0, so there are no infections from patients that are infected on the day itself.\n",
    "    Yttau[-1][0] = 0 #this is already the case.\n",
    "    Yttot.append(sum(Yttau[-1]))"
   ]
  },
  {
   "cell_type": "code",
   "execution_count": 8,
   "metadata": {
    "scrolled": true
   },
   "outputs": [
    {
     "data": {
      "image/png": "[encoded data removed]",
      "text/plain": [
       "<Figure size 432x288 with 1 Axes>"
      ]
     },
     "metadata": {
      "needs_background": "light"
     },
     "output_type": "display_data"
    }
   ],
   "source": [
    "time = range(0,T+1)\n",
    "plt.figure() #Plot S, I and R in one plot.\n",
    "plt.plot(time, S, 'r-',time, Itotal,'b-',time, R, 'g-')\n",
    "plt.show()"
   ]
  },
  {
   "cell_type": "code",
   "execution_count": 9,
   "metadata": {},
   "outputs": [
    {
     "data": {
      "image/png": "[encoded data removed]",
      "text/plain": [
       "<matplotlib.figure.Figure at 0x1a5b134e5f8>"
      ]
     },
     "metadata": {},
     "output_type": "display_data"
    }
   ],
   "source": [
    "plt.figure() #Plot H and D in one plot\n",
    "plt.plot(time, H, 'b-', time, D, 'k-')\n",
    "plt.show()"
   ]
  },
  {
   "cell_type": "code",
   "execution_count": 10,
   "metadata": {},
   "outputs": [
    {
     "data": {
      "image/png": "[encoded data removed]",
      "text/plain": [
       "<matplotlib.figure.Figure at 0x1a5b134ee10>"
      ]
     },
     "metadata": {},
     "output_type": "display_data"
    }
   ],
   "source": [
    "plt.figure()\n",
    "plt.plot(time,Itotal)\n",
    "plt.show()"
   ]
  },
  {
   "cell_type": "code",
   "execution_count": null,
   "metadata": {},
   "outputs": [],
   "source": []
  }
 ],
 "metadata": {
  "kernelspec": {
   "display_name": "Python 3",
   "language": "python",
   "name": "python3"
  },
  "language_info": {
   "codemirror_mode": {
    "name": "ipython",
    "version": 3
   },
   "file_extension": ".py",
   "mimetype": "text/x-python",
   "name": "python",
   "nbconvert_exporter": "python",
   "pygments_lexer": "ipython3",
   "version": "3.7.3"
  }
 },
 "nbformat": 4,
 "nbformat_minor": 2
}
